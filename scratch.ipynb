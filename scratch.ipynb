{
 "cells": [
  {
   "cell_type": "code",
   "execution_count": 19,
   "metadata": {},
   "outputs": [],
   "source": [
    "import pandas as pd\n",
    "import matplotlib.pyplot as plt\n",
    "import seaborn as sns\n",
    "import numpy as np\n",
    "import scipy as sp"
   ]
  },
  {
   "cell_type": "code",
   "execution_count": 2,
   "metadata": {},
   "outputs": [],
   "source": [
    "augmentation_loss_frame = pd.read_csv(\"results/spreadsheets/warm_start_model_aug_loss_unnormalized.csv\")"
   ]
  },
  {
   "cell_type": "code",
   "execution_count": 3,
   "metadata": {},
   "outputs": [],
   "source": [
    "augmentation_loss_frame[\"loss_1\"] = augmentation_loss_frame[\"loss\"] / augmentation_loss_frame[\"length\"]"
   ]
  },
  {
   "cell_type": "code",
   "execution_count": 5,
   "metadata": {},
   "outputs": [
    {
     "data": {
      "text/html": [
       "<div>\n",
       "<style scoped>\n",
       "    .dataframe tbody tr th:only-of-type {\n",
       "        vertical-align: middle;\n",
       "    }\n",
       "\n",
       "    .dataframe tbody tr th {\n",
       "        vertical-align: top;\n",
       "    }\n",
       "\n",
       "    .dataframe thead th {\n",
       "        text-align: right;\n",
       "    }\n",
       "</style>\n",
       "<table border=\"1\" class=\"dataframe\">\n",
       "  <thead>\n",
       "    <tr style=\"text-align: right;\">\n",
       "      <th></th>\n",
       "      <th>Unnamed: 0</th>\n",
       "      <th>src</th>\n",
       "      <th>tgt</th>\n",
       "      <th>tag</th>\n",
       "      <th>length</th>\n",
       "      <th>loss</th>\n",
       "      <th>loss_1</th>\n",
       "    </tr>\n",
       "  </thead>\n",
       "  <tbody>\n",
       "    <tr>\n",
       "      <th>0</th>\n",
       "      <td>0</td>\n",
       "      <td>fpvure</td>\n",
       "      <td>fpvured</td>\n",
       "      <td>V;PST</td>\n",
       "      <td>8</td>\n",
       "      <td>7.943930</td>\n",
       "      <td>0.992991</td>\n",
       "    </tr>\n",
       "    <tr>\n",
       "      <th>1</th>\n",
       "      <td>1</td>\n",
       "      <td>ijtgreut</td>\n",
       "      <td>ijtgreuted</td>\n",
       "      <td>V;PST</td>\n",
       "      <td>11</td>\n",
       "      <td>32.169254</td>\n",
       "      <td>2.924478</td>\n",
       "    </tr>\n",
       "    <tr>\n",
       "      <th>2</th>\n",
       "      <td>2</td>\n",
       "      <td>qno</td>\n",
       "      <td>qnoed</td>\n",
       "      <td>V;PST</td>\n",
       "      <td>6</td>\n",
       "      <td>12.383417</td>\n",
       "      <td>2.063903</td>\n",
       "    </tr>\n",
       "    <tr>\n",
       "      <th>3</th>\n",
       "      <td>3</td>\n",
       "      <td>loyr</td>\n",
       "      <td>loyred</td>\n",
       "      <td>V;PST</td>\n",
       "      <td>7</td>\n",
       "      <td>5.451545</td>\n",
       "      <td>0.778792</td>\n",
       "    </tr>\n",
       "    <tr>\n",
       "      <th>4</th>\n",
       "      <td>4</td>\n",
       "      <td>quix</td>\n",
       "      <td>quix</td>\n",
       "      <td>V;PST</td>\n",
       "      <td>5</td>\n",
       "      <td>8.979031</td>\n",
       "      <td>1.795806</td>\n",
       "    </tr>\n",
       "    <tr>\n",
       "      <th>...</th>\n",
       "      <td>...</td>\n",
       "      <td>...</td>\n",
       "      <td>...</td>\n",
       "      <td>...</td>\n",
       "      <td>...</td>\n",
       "      <td>...</td>\n",
       "      <td>...</td>\n",
       "    </tr>\n",
       "    <tr>\n",
       "      <th>9994</th>\n",
       "      <td>9994</td>\n",
       "      <td>huzt</td>\n",
       "      <td>huzt</td>\n",
       "      <td>V;PST</td>\n",
       "      <td>5</td>\n",
       "      <td>8.369371</td>\n",
       "      <td>1.673874</td>\n",
       "    </tr>\n",
       "    <tr>\n",
       "      <th>9995</th>\n",
       "      <td>9995</td>\n",
       "      <td>soarv</td>\n",
       "      <td>soarvd</td>\n",
       "      <td>V;PST</td>\n",
       "      <td>7</td>\n",
       "      <td>11.292818</td>\n",
       "      <td>1.613260</td>\n",
       "    </tr>\n",
       "    <tr>\n",
       "      <th>9996</th>\n",
       "      <td>9996</td>\n",
       "      <td>wec</td>\n",
       "      <td>wec</td>\n",
       "      <td>V;PST</td>\n",
       "      <td>4</td>\n",
       "      <td>6.974558</td>\n",
       "      <td>1.743640</td>\n",
       "    </tr>\n",
       "    <tr>\n",
       "      <th>9997</th>\n",
       "      <td>9997</td>\n",
       "      <td>ptlfx</td>\n",
       "      <td>ptlfxed</td>\n",
       "      <td>V;PST</td>\n",
       "      <td>8</td>\n",
       "      <td>12.956491</td>\n",
       "      <td>1.619561</td>\n",
       "    </tr>\n",
       "    <tr>\n",
       "      <th>9998</th>\n",
       "      <td>9998</td>\n",
       "      <td>wnkp</td>\n",
       "      <td>wnkpped</td>\n",
       "      <td>V;PST</td>\n",
       "      <td>8</td>\n",
       "      <td>12.629440</td>\n",
       "      <td>1.578680</td>\n",
       "    </tr>\n",
       "  </tbody>\n",
       "</table>\n",
       "<p>9999 rows × 7 columns</p>\n",
       "</div>"
      ],
      "text/plain": [
       "      Unnamed: 0       src         tgt    tag  length       loss    loss_1\n",
       "0              0    fpvure     fpvured  V;PST       8   7.943930  0.992991\n",
       "1              1  ijtgreut  ijtgreuted  V;PST      11  32.169254  2.924478\n",
       "2              2       qno       qnoed  V;PST       6  12.383417  2.063903\n",
       "3              3      loyr      loyred  V;PST       7   5.451545  0.778792\n",
       "4              4      quix        quix  V;PST       5   8.979031  1.795806\n",
       "...          ...       ...         ...    ...     ...        ...       ...\n",
       "9994        9994      huzt        huzt  V;PST       5   8.369371  1.673874\n",
       "9995        9995     soarv      soarvd  V;PST       7  11.292818  1.613260\n",
       "9996        9996       wec         wec  V;PST       4   6.974558  1.743640\n",
       "9997        9997     ptlfx     ptlfxed  V;PST       8  12.956491  1.619561\n",
       "9998        9998      wnkp     wnkpped  V;PST       8  12.629440  1.578680\n",
       "\n",
       "[9999 rows x 7 columns]"
      ]
     },
     "execution_count": 5,
     "metadata": {},
     "output_type": "execute_result"
    }
   ],
   "source": [
    "augmentation_loss_frame"
   ]
  },
  {
   "cell_type": "code",
   "execution_count": 7,
   "metadata": {},
   "outputs": [
    {
     "data": {
      "text/plain": [
       "<AxesSubplot:xlabel='length', ylabel='loss_1'>"
      ]
     },
     "execution_count": 7,
     "metadata": {},
     "output_type": "execute_result"
    },
    {
     "data": {
      "image/png": "[encoded data removed]",
      "text/plain": [
       "<Figure size 432x288 with 1 Axes>"
      ]
     },
     "metadata": {
      "needs_background": "light"
     },
     "output_type": "display_data"
    }
   ],
   "source": [
    "sns.barplot(data=augmentation_loss_frame, x=\"length\", y=\"loss_1\")"
   ]
  },
  {
   "cell_type": "code",
   "execution_count": 11,
   "metadata": {},
   "outputs": [
    {
     "data": {
      "text/plain": [
       "array([0.1  , 0.325, 0.55 , 0.775, 1.   ])"
      ]
     },
     "execution_count": 11,
     "metadata": {},
     "output_type": "execute_result"
    }
   ],
   "source": [
    "r_space = np.linspace(0.1, 1, 5)\n",
    "r_space"
   ]
  },
  {
   "cell_type": "code",
   "execution_count": 16,
   "metadata": {},
   "outputs": [
    {
     "name": "stdout",
     "output_type": "stream",
     "text": [
      "      length       loss  loss_normalized    r\n",
      "0          8   7.943930         6.452476  0.1\n",
      "1         11  32.169254        25.310558  0.1\n",
      "2          6  12.383417        10.352026  0.1\n",
      "3          7   5.451545         4.487555  0.1\n",
      "4          5   8.979031         7.644208  0.1\n",
      "...      ...        ...              ...  ...\n",
      "9994       5   8.369371         1.673874  1.0\n",
      "9995       7  11.292818         1.613260  1.0\n",
      "9996       4   6.974558         1.743640  1.0\n",
      "9997       8  12.956491         1.619561  1.0\n",
      "9998       8  12.629440         1.578680  1.0\n",
      "\n",
      "[49995 rows x 4 columns]\n"
     ]
    }
   ],
   "source": [
    "loss_frames = []\n",
    "for r in r_space:\n",
    "    loss_frame = augmentation_loss_frame[[\"length\", \"loss\"]].copy()\n",
    "    norm_vector = augmentation_loss_frame[\"length\"].pow(r)\n",
    "    loss_frame['loss_normalized'] = augmentation_loss_frame[\"loss\"] / norm_vector\n",
    "    loss_frame['r'] = r\n",
    "    loss_frames.append(loss_frame)\n",
    "complete_loss_frame = pd.concat(loss_frames)\n",
    "print(complete_loss_frame)"
   ]
  },
  {
   "cell_type": "code",
   "execution_count": 17,
   "metadata": {},
   "outputs": [
    {
     "data": {
      "text/plain": [
       "<AxesSubplot:xlabel='length', ylabel='loss_normalized'>"
      ]
     },
     "execution_count": 17,
     "metadata": {},
     "output_type": "execute_result"
    },
    {
     "data": {
      "image/png": "[encoded data removed]",
      "text/plain": [
       "<Figure size 432x288 with 1 Axes>"
      ]
     },
     "metadata": {
      "needs_background": "light"
     },
     "output_type": "display_data"
    }
   ],
   "source": [
    "sns.barplot(data=complete_loss_frame, x=\"length\", y=\"loss_normalized\", hue=\"r\")"
   ]
  },
  {
   "cell_type": "code",
   "execution_count": 20,
   "metadata": {},
   "outputs": [],
   "source": [
    "complete_loss_frame['sample_prob'] = sp.special.softmax(complete_loss_frame['loss_normalized'])"
   ]
  },
  {
   "cell_type": "code",
   "execution_count": 30,
   "metadata": {},
   "outputs": [],
   "source": [
    "softmax_loss_frame = complete_loss_frame[~complete_loss_frame['r'].isin([0.325])]"
   ]
  },
  {
   "cell_type": "code",
   "execution_count": 26,
   "metadata": {},
   "outputs": [
    {
     "data": {
      "text/plain": [
       "3.5720011062578897e-07"
      ]
     },
     "execution_count": 26,
     "metadata": {},
     "output_type": "execute_result"
    }
   ],
   "source": []
  },
  {
   "cell_type": "code",
   "execution_count": 32,
   "metadata": {},
   "outputs": [
    {
     "data": {
      "text/plain": [
       "<AxesSubplot:xlabel='length', ylabel='sample_prob'>"
      ]
     },
     "execution_count": 32,
     "metadata": {},
     "output_type": "execute_result"
    },
    {
     "data": {
      "image/png": "[encoded data removed]",
      "text/plain": [
       "<Figure size 432x288 with 1 Axes>"
      ]
     },
     "metadata": {
      "needs_background": "light"
     },
     "output_type": "display_data"
    }
   ],
   "source": [
    "sns.barplot(data=complete_loss_frame[complete_loss_frame['r'].isin([0.775])], x=\"length\", y=\"sample_prob\", hue=\"r\")"
   ]
  },
  {
   "cell_type": "code",
   "execution_count": null,
   "metadata": {},
   "outputs": [],
   "source": [
    "# TODO: plot k-means cluster sizes"
   ]
  }
 ],
 "metadata": {
  "kernelspec": {
   "display_name": "Python 3.8.3 ('base')",
   "language": "python",
   "name": "python3"
  },
  "language_info": {
   "codemirror_mode": {
    "name": "ipython",
    "version": 3
   },
   "file_extension": ".py",
   "mimetype": "text/x-python",
   "name": "python",
   "nbconvert_exporter": "python",
   "pygments_lexer": "ipython3",
   "version": "3.8.3"
  },
  "orig_nbformat": 4,
  "vscode": {
   "interpreter": {
    "hash": "c2109291ff8bd9e48b5cfb7f2206a2f6ea314e9a88c3d714a1300a6ca1b68565"
   }
  }
 },
 "nbformat": 4,
 "nbformat_minor": 2
}
